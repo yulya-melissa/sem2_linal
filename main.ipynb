{
 "cells": [
  {
   "cell_type": "markdown",
   "metadata": {},
   "source": [
    "# Лабораторная работа №1 по Линейной алгеьре\n",
    "Выполнила: Капустина Юлия, J3110"
   ]
  },
  {
   "cell_type": "code",
   "execution_count": 1,
   "metadata": {},
   "outputs": [],
   "source": [
    "from pca_ver3 import *\n",
    "import pandas as pd\n",
    "import numpy as np"
   ]
  },
  {
   "cell_type": "code",
   "execution_count": 2,
   "metadata": {},
   "outputs": [
    {
     "data": {
      "text/html": [
       "<div>\n",
       "<style scoped>\n",
       "    .dataframe tbody tr th:only-of-type {\n",
       "        vertical-align: middle;\n",
       "    }\n",
       "\n",
       "    .dataframe tbody tr th {\n",
       "        vertical-align: top;\n",
       "    }\n",
       "\n",
       "    .dataframe thead th {\n",
       "        text-align: right;\n",
       "    }\n",
       "</style>\n",
       "<table border=\"1\" class=\"dataframe\">\n",
       "  <thead>\n",
       "    <tr style=\"text-align: right;\">\n",
       "      <th></th>\n",
       "      <th>age</th>\n",
       "      <th>Medu</th>\n",
       "      <th>Fedu</th>\n",
       "      <th>traveltime</th>\n",
       "      <th>studytime</th>\n",
       "      <th>failures</th>\n",
       "      <th>famrel</th>\n",
       "      <th>freetime</th>\n",
       "      <th>goout</th>\n",
       "      <th>Dalc</th>\n",
       "      <th>Walc</th>\n",
       "      <th>health</th>\n",
       "      <th>absences</th>\n",
       "      <th>G1</th>\n",
       "      <th>G2</th>\n",
       "      <th>G3</th>\n",
       "    </tr>\n",
       "  </thead>\n",
       "  <tbody>\n",
       "    <tr>\n",
       "      <th>0</th>\n",
       "      <td>18</td>\n",
       "      <td>4</td>\n",
       "      <td>4</td>\n",
       "      <td>2</td>\n",
       "      <td>2</td>\n",
       "      <td>0</td>\n",
       "      <td>4</td>\n",
       "      <td>3</td>\n",
       "      <td>4</td>\n",
       "      <td>1</td>\n",
       "      <td>1</td>\n",
       "      <td>3</td>\n",
       "      <td>6</td>\n",
       "      <td>5</td>\n",
       "      <td>6</td>\n",
       "      <td>6</td>\n",
       "    </tr>\n",
       "    <tr>\n",
       "      <th>1</th>\n",
       "      <td>17</td>\n",
       "      <td>1</td>\n",
       "      <td>1</td>\n",
       "      <td>1</td>\n",
       "      <td>2</td>\n",
       "      <td>0</td>\n",
       "      <td>5</td>\n",
       "      <td>3</td>\n",
       "      <td>3</td>\n",
       "      <td>1</td>\n",
       "      <td>1</td>\n",
       "      <td>3</td>\n",
       "      <td>4</td>\n",
       "      <td>5</td>\n",
       "      <td>5</td>\n",
       "      <td>6</td>\n",
       "    </tr>\n",
       "    <tr>\n",
       "      <th>2</th>\n",
       "      <td>15</td>\n",
       "      <td>1</td>\n",
       "      <td>1</td>\n",
       "      <td>1</td>\n",
       "      <td>2</td>\n",
       "      <td>3</td>\n",
       "      <td>4</td>\n",
       "      <td>3</td>\n",
       "      <td>2</td>\n",
       "      <td>2</td>\n",
       "      <td>3</td>\n",
       "      <td>3</td>\n",
       "      <td>10</td>\n",
       "      <td>7</td>\n",
       "      <td>8</td>\n",
       "      <td>10</td>\n",
       "    </tr>\n",
       "    <tr>\n",
       "      <th>3</th>\n",
       "      <td>15</td>\n",
       "      <td>4</td>\n",
       "      <td>2</td>\n",
       "      <td>1</td>\n",
       "      <td>3</td>\n",
       "      <td>0</td>\n",
       "      <td>3</td>\n",
       "      <td>2</td>\n",
       "      <td>2</td>\n",
       "      <td>1</td>\n",
       "      <td>1</td>\n",
       "      <td>5</td>\n",
       "      <td>2</td>\n",
       "      <td>15</td>\n",
       "      <td>14</td>\n",
       "      <td>15</td>\n",
       "    </tr>\n",
       "    <tr>\n",
       "      <th>4</th>\n",
       "      <td>16</td>\n",
       "      <td>3</td>\n",
       "      <td>3</td>\n",
       "      <td>1</td>\n",
       "      <td>2</td>\n",
       "      <td>0</td>\n",
       "      <td>4</td>\n",
       "      <td>3</td>\n",
       "      <td>2</td>\n",
       "      <td>1</td>\n",
       "      <td>2</td>\n",
       "      <td>5</td>\n",
       "      <td>4</td>\n",
       "      <td>6</td>\n",
       "      <td>10</td>\n",
       "      <td>10</td>\n",
       "    </tr>\n",
       "  </tbody>\n",
       "</table>\n",
       "</div>"
      ],
      "text/plain": [
       "   age  Medu  Fedu  traveltime  studytime  failures  famrel  freetime  goout  \\\n",
       "0   18     4     4           2          2         0       4         3      4   \n",
       "1   17     1     1           1          2         0       5         3      3   \n",
       "2   15     1     1           1          2         3       4         3      2   \n",
       "3   15     4     2           1          3         0       3         2      2   \n",
       "4   16     3     3           1          2         0       4         3      2   \n",
       "\n",
       "   Dalc  Walc  health  absences  G1  G2  G3  \n",
       "0     1     1       3         6   5   6   6  \n",
       "1     1     1       3         4   5   5   6  \n",
       "2     2     3       3        10   7   8  10  \n",
       "3     1     1       5         2  15  14  15  \n",
       "4     1     2       5         4   6  10  10  "
      ]
     },
     "execution_count": 2,
     "metadata": {},
     "output_type": "execute_result"
    }
   ],
   "source": [
    "df = pd.read_csv('Math-Students.csv')\n",
    "df = df.select_dtypes(include=['number'])\n",
    "df.head()"
   ]
  },
  {
   "cell_type": "code",
   "execution_count": 3,
   "metadata": {},
   "outputs": [],
   "source": [
    "values = df.values.tolist()  # преобразуем в список списков\n",
    "n, m = df.shape\n",
    "values_float = [[float(x) for x in row] for row in values]\n",
    "matr = Matrix(n, m, values_float)"
   ]
  },
  {
   "cell_type": "markdown",
   "metadata": {},
   "source": [
    "### Вывод собственных векторов"
   ]
  },
  {
   "cell_type": "code",
   "execution_count": 4,
   "metadata": {},
   "outputs": [
    {
     "name": "stdout",
     "output_type": "stream",
     "text": [
      "[63.89636766023603, 42.16254089018172, 3.0111108903961448, 2.5020813359374854, 2.072039726447659, 1.9141439446232478, 1.4526348744528814, 1.2366571665279784, 1.0455593770126985, 0.7961537595173986, 0.6571447653233004, 0.5829192414394387, 0.4452958838848084, 0.4196436678823404, 0.38232407717416644, 0.32246461450581093]\n"
     ]
    }
   ],
   "source": [
    "centred_X = center_data(matr)\n",
    "cov_X = covariance_matrix(centred_X)\n",
    "eigen_num, eigen_vec = qr_algorithm(cov_X)\n",
    "print(eigen_num)"
   ]
  },
  {
   "cell_type": "markdown",
   "metadata": {},
   "source": [
    "Сравнение собственных значений с результатами numpy"
   ]
  },
  {
   "cell_type": "code",
   "execution_count": 5,
   "metadata": {},
   "outputs": [
    {
     "name": "stdout",
     "output_type": "stream",
     "text": [
      "[63.89636766 42.16254089  3.01111089  2.50208134  2.07203973  1.91414394\n",
      "  1.45263487  1.23665717  1.04555938  0.79615376  0.65714477  0.58291924\n",
      "  0.32246461  0.38232408  0.41964367  0.44529588]\n"
     ]
    }
   ],
   "source": [
    "A = np.array(cov_X.values)\n",
    "evalues, evectors = np.linalg.eig(A)\n",
    "print(evalues)"
   ]
  },
  {
   "cell_type": "markdown",
   "metadata": {},
   "source": [
    "Сравнение собственных векторов с numpy"
   ]
  },
  {
   "cell_type": "code",
   "execution_count": 6,
   "metadata": {},
   "outputs": [
    {
     "name": "stdout",
     "output_type": "stream",
     "text": [
      "[0.027030464402051837, -0.031201867084572416, 0.13536317366405112, 0.33326653580158694, 0.38060536511455506, -0.03732783506349852, 0.44240637391203064, 0.695160749582776, 0.09773888964734803, -0.057816904752047676, 0.11385960517305521, -0.011117007456340918, 0.038809855774409735, -0.07708519785615357, -0.09956098321546816, -0.01833961749560411]\n",
      "[ 0.02703046 -0.03120187 -0.13536317 -0.33326654  0.38060723 -0.03730884\n",
      "  0.44240638 -0.69516075  0.09773888 -0.0578169  -0.11385961 -0.01111693\n",
      " -0.01833962  0.09956281 -0.07707965  0.0388162 ]\n"
     ]
    }
   ],
   "source": [
    "print(eigen_vec.values[0])\n",
    "print(evectors[0])"
   ]
  },
  {
   "cell_type": "markdown",
   "metadata": {},
   "source": [
    "### Применение РСА"
   ]
  },
  {
   "cell_type": "code",
   "execution_count": 7,
   "metadata": {},
   "outputs": [
    {
     "data": {
      "text/plain": [
       "0.9078351040062099"
      ]
     },
     "execution_count": 7,
     "metadata": {},
     "output_type": "execute_result"
    }
   ],
   "source": [
    "X_proj, V, ev = pca(matr, 4)\n",
    "ev"
   ]
  },
  {
   "cell_type": "markdown",
   "metadata": {},
   "source": [
    "Вывод первых значений новых компонент(для первых 5 наблюдений)"
   ]
  },
  {
   "cell_type": "code",
   "execution_count": 8,
   "metadata": {},
   "outputs": [
    {
     "name": "stdout",
     "output_type": "stream",
     "text": [
      "[5.739721909524216, -3.7649876978825407, 4.619712686913093, -7.307044531349975]\n",
      "[5.4335497455134725, -2.5078855136607032, 3.26887826257274, -6.1539240138802125]\n",
      "[4.6039096728588875, -5.336353017461142, 6.537338839788479, -12.431674317692549]\n",
      "[2.192328255757385, -3.596168588991266, 2.8142615872954115, -11.639777049090641]\n",
      "[4.518073637055462, -4.7420294775893925, 5.646249768102164, -7.082230395065571]\n"
     ]
    }
   ],
   "source": [
    "for i in range(5):\n",
    "    print(X_proj.values[i])"
   ]
  },
  {
   "cell_type": "markdown",
   "metadata": {},
   "source": [
    "Вывод значений восстановленной матрицы"
   ]
  },
  {
   "cell_type": "code",
   "execution_count": 18,
   "metadata": {},
   "outputs": [
    {
     "name": "stdout",
     "output_type": "stream",
     "text": [
      "Восстановленная матрица\n",
      "[16.815988099659965, 2.4421254828647214, 3.228377058321053, 3.6012357292579837, 6.215210931486683, -1.1243760278266839, 5.921857113333273, 6.341616395514977, 3.57549382630638, 1.3444364887138396, 2.6558294776153613, 4.21975336492212, 7.655759253296354, 9.068239318766908, 11.26685672955721, 10.914747491837227]\n",
      "[16.823883362939092, 2.498653746199065, 3.215283714141288, 3.4174720358036135, 5.432379017176782, -0.6986024781154077, 5.977497995660048, 6.423102567239194, 3.5733636629471444, 1.2953268163574687, 2.7164333021234364, 3.9811967923584706, 7.049089384319939, 9.548943984381612, 10.909483890317222, 10.706985251699203]\n",
      "[16.765072678255226, 2.4188465088566105, 3.0391913246393614, 3.324865159223383, 6.61578455496197, -1.599905532478351, 5.180501677828897, 5.184140911954294, 3.4297376188595803, 1.4936194760229666, 2.4071767044959813, 4.534828172773716, 8.355156886497678, 8.5844189877774, 11.864755034648734, 11.202297397886362]\n",
      "[16.722272074221696, 2.559119183777319, 2.7519979276297404, 2.4080328632340997, 4.775574779720893, -0.936316197124782, 4.378129916940724, 3.915133142897961, 3.232508131461003, 1.5405635282359083, 2.2647447769007663, 4.2266963693532205, 7.438210069543539, 9.403076304488058, 11.567952714216593, 10.951150409314577]\n",
      "[16.770397810003587, 2.4437333058158406, 3.040975907338871, 3.257620704863829, 6.268105935978322, -1.4008105643611923, 5.232871002570599, 5.263619901478246, 3.4344887044542363, 1.466995552650567, 2.4425364367012925, 4.42139020303419, 8.070626396322691, 8.807141628527038, 11.689933412841459, 11.102992635167688]\n"
     ]
    }
   ],
   "source": [
    "recon = calc_recon_matrix(matr, X_proj, V)\n",
    "print(\"Восстановленная матрица\")\n",
    "for i in range(5):\n",
    "    print(recon.values[i])"
   ]
  },
  {
   "cell_type": "code",
   "execution_count": 19,
   "metadata": {},
   "outputs": [
    {
     "name": "stdout",
     "output_type": "stream",
     "text": [
      "Изначальная матрица\n",
      "[18.0, 4.0, 4.0, 2.0, 2.0, 0.0, 4.0, 3.0, 4.0, 1.0, 1.0, 3.0, 6.0, 5.0, 6.0, 6.0]\n",
      "[17.0, 1.0, 1.0, 1.0, 2.0, 0.0, 5.0, 3.0, 3.0, 1.0, 1.0, 3.0, 4.0, 5.0, 5.0, 6.0]\n",
      "[15.0, 1.0, 1.0, 1.0, 2.0, 3.0, 4.0, 3.0, 2.0, 2.0, 3.0, 3.0, 10.0, 7.0, 8.0, 10.0]\n",
      "[15.0, 4.0, 2.0, 1.0, 3.0, 0.0, 3.0, 2.0, 2.0, 1.0, 1.0, 5.0, 2.0, 15.0, 14.0, 15.0]\n",
      "[16.0, 3.0, 3.0, 1.0, 2.0, 0.0, 4.0, 3.0, 2.0, 1.0, 2.0, 5.0, 4.0, 6.0, 10.0, 10.0]\n"
     ]
    }
   ],
   "source": [
    "print(\"Изначальная матрица\")\n",
    "for i in range(5):\n",
    "    print(matr.values[i])"
   ]
  },
  {
   "cell_type": "markdown",
   "metadata": {},
   "source": [
    "Провекрка работы функций"
   ]
  },
  {
   "cell_type": "code",
   "execution_count": 11,
   "metadata": {},
   "outputs": [
    {
     "name": "stdout",
     "output_type": "stream",
     "text": [
      "Доля объяснённой дисперсии  0.8874762754636885 \n",
      "Среднеквадратическая ошибку восстановления данных  9.479935241843748\n"
     ]
    }
   ],
   "source": [
    "X_proj_t, ev, er = apply_pca_to_dataset('Math-Students.csv', 3)\n",
    "print('Доля объяснённой дисперсии ', ev, '\\nСреднеквадратическая ошибку восстановления данных ', er)"
   ]
  },
  {
   "cell_type": "code",
   "execution_count": 12,
   "metadata": {},
   "outputs": [
    {
     "name": "stdout",
     "output_type": "stream",
     "text": [
      "Доля объяснённой дисперсии для шумной и не шумной матрицы  [0.9520894504384441, 0.9517166871950019]\n",
      "Косинусное сходство собственных векторов \n",
      " [0.9878056318908932, 0.9885784309274824, 0.9881916333417727, 0.9902812384838373, 0.9855106974599588, 0.9956222166502253, 0.9745056126432747, 0.9896346451881148, 0.9915343593223304, 0.9886377164122241, 0.9837468730271016, 0.9947465598718803, 0.9999850052528525, 0.9893154050474395, 0.9742607493843214, 0.9921749925695411]\n",
      "Среднеквадратическая ошибку восстановления данных  [22.05664838352118, 22.239365630507987]\n"
     ]
    }
   ],
   "source": [
    "a, b, c = add_noise_and_compare(matr)\n",
    "print('Доля объяснённой дисперсии для шумной и не шумной матрицы ', a)\n",
    "print('Косинусное сходство собственных векторов \\n', b)\n",
    "print('Среднеквадратическая ошибку восстановления данных ', c)"
   ]
  },
  {
   "cell_type": "markdown",
   "metadata": {},
   "source": [
    "Визуализация PCA"
   ]
  },
  {
   "cell_type": "code",
   "execution_count": 13,
   "metadata": {},
   "outputs": [],
   "source": [
    "X_proj, V, ev = pca(matr, 2)"
   ]
  },
  {
   "cell_type": "code",
   "execution_count": 14,
   "metadata": {},
   "outputs": [
    {
     "data": {
      "image/png": "[encoded data removed]",
      "text/plain": [
       "<Figure size 800x600 with 1 Axes>"
      ]
     },
     "metadata": {},
     "output_type": "display_data"
    }
   ],
   "source": [
    "plot_pca_projection(X_proj)\n",
    "plt.show()"
   ]
  },
  {
   "cell_type": "markdown",
   "metadata": {},
   "source": [
    "# Expert lvl\n",
    "**Утверждение:**\n",
    "Оптимальные направления PCA совпадают с собственными векторами матрицы ковариаций\n",
    "\n",
    "\n",
    "**Док-во:**\n",
    "### 1. Дисперсия\n",
    "PCA ищет такие ортогональные направления в данных, которые:\n",
    "- Максимизируют дисперсию проекций \n",
    "- Для последующих компонент сохраняют условие ортогональности к предыдущим\n",
    "\n",
    "В методе главных компонент (PCA) мы работаем с дисперсией проекций данных на направляющий вектор v.\n",
    "Так как PCA данные предварительно центрируются (вычитается среднее по каждому признаку):\n",
    "Среднее значение проекций равно нулю:\n",
    "   $$\n",
    "   \\frac{1}{n}\\sum_{i=1}^n (\\mathbf{x}_i \\cdot \\mathbf{v}) = 0\n",
    "   $$\n",
    "   \n",
    "   Cреднее значение равно нулю. Тогда дисперсию можно вычислить как:\n",
    "\n",
    "   $$\n",
    "   \\text{Var}(\\mathbf{Xv}) = \\frac{1}{n-1}\\sum_{i=1}^n (\\mathbf{x}_i \\cdot \\mathbf{v})^2\n",
    "   $$\n",
    "\n",
    "Составим вектор проекций всех точек:\n",
    "   $$\n",
    "   \\mathbf{Xv} \\quad \\text{(размер } n \\times 1\\text{)}\n",
    "   $$\n",
    "\n",
    "Тогда квадраты проекций:\n",
    "   $$\n",
    "   (\\mathbf{Xv})^2 = (\\mathbf{Xv})^T (\\mathbf{Xv}) = \\mathbf{v}^T \\mathbf{X}^T \\mathbf{X} \\mathbf{v}\n",
    "   $$\n",
    "\n",
    "Усреднение даёт выражение для дисперсии:\n",
    "   $$\n",
    "   \\text{Var}(\\mathbf{Xv}) = \\frac{1}{n-1}\\sum_{i=1}^n (\\mathbf{x}_i \\cdot \\mathbf{v})^2 = \\frac{1}{n-1}\\mathbf{v}^T \\mathbf{X}^T \\mathbf{X} \\mathbf{v} = \\mathbf{v}^T \\mathbf{C} \\mathbf{v}\n",
    "   $$\n",
    "   где $\\mathbf{C} = \\frac{1}{n-1}\\mathbf{X}^T \\mathbf{X}$ — матрица ковариаций.\n",
    "\n",
    "### 2. Спектрально разложение\n",
    "Воспользуемся теоремой о спектральном разложении:\n",
    "\n",
    "Любая симметричная матрица **C** может быть представлена как:\n",
    "$$\n",
    "\\mathbf{C} = \\mathbf{V} \\mathbf{\\Lambda} \\mathbf{V}^T\n",
    "$$\n",
    "где:\n",
    "- $\\mathbf{V}$ - матрица собственных векторов (ортогональная)\n",
    "- $\\mathbf{\\Lambda}$ - диагональная матрица собственных значений\n",
    "\n",
    "Введём новый вектор:\n",
    "$$\n",
    "\\mathbf{u} = \\mathbf{V}^T \\mathbf{v} \\quad \\Rightarrow \\quad \\mathbf{v} = \\mathbf{V} \\mathbf{u}\n",
    "$$\n",
    "При этом условие нормировки сохраняется:\n",
    "$$\n",
    "\\|\\mathbf{v}\\|^2 = \\mathbf{v}^T \\mathbf{v} = \\mathbf{u}^T \\mathbf{V}^T \\mathbf{V} \\mathbf{u} = \\mathbf{u}^T \\mathbf{u} = 1\n",
    "$$\n",
    "\n",
    "\n",
    "Квадратичная форма преобразуется:\n",
    "$$\n",
    "\\mathbf{v}^T \\mathbf{C} \\mathbf{v} = \\mathbf{u}^T \\mathbf{V}^T \\mathbf{V} \\mathbf{\\Lambda} \\mathbf{V}^T \\mathbf{V} \\mathbf{u} = \\mathbf{u}^T \\mathbf{\\Lambda} \\mathbf{u} = \\sum_{i=1}^d \\lambda_i u_i^2\n",
    "$$\n",
    "\n",
    "\n",
    "Теперь задача принимает вид:\n",
    "$$\n",
    "\\max \\sum_{i=1}^d \\lambda_i u_i^2 \\quad \\text{при} \\quad \\sum_{i=1}^d u_i^2 = 1\n",
    "$$\n",
    "\n",
    "Решение:\n",
    "1. Максимум достигается, когда весь \"вес\" сосредоточен на максимальном $\\lambda_i$\n",
    "2. Пусть $\\lambda_1$ - наибольшее собственное значение\n",
    "3. Тогда оптимальное решение: $u_1 = \\pm 1$, $u_i = 0$ для $i > 1$\n",
    "\n",
    "\n",
    "Соответствующий вектор $\\mathbf{v}$:\n",
    "$$\n",
    "\\mathbf{v} = \\mathbf{V} \\mathbf{u} = \\mathbf{v}_1\n",
    "$$\n",
    "где $\\mathbf{v}_1$ - собственный вектор, соответствующий $\\lambda_1$\n",
    "\n",
    "### 3. Вывод:\n",
    "1. **Максимизация дисперсии**:  \n",
    "   Первая главная компонента соответствует собственному вектору с наибольшим λ\n",
    "\n",
    "2. **Ортогональность компонент**:  \n",
    "   Собственные векторы симметричной матрицы **C** всегда ортогональны\n",
    "\n",
    "3. **Объясненная дисперсия**:  \n",
    "   Собственные значения λ_i показывают вклад каждой компоненты\n",
    "\n"
   ]
  },
  {
   "cell_type": "code",
   "execution_count": 25,
   "metadata": {},
   "outputs": [
    {
     "name": "stdout",
     "output_type": "stream",
     "text": [
      "\n"
     ]
    }
   ],
   "source": [
    "print()"
   ]
  },
  {
   "cell_type": "markdown",
   "metadata": {},
   "source": [
    " ### (Заметки для меня не для проверки)\n",
    " \n",
    " **Формулировка теоремы**\n",
    "\n",
    "\n",
    " \n",
    "Для любой симметричной матрицы **A** ∈ ℝⁿˣⁿ существует ортогональная матрица **V** и диагональная матрица **Λ**, такие что:\n",
    "$$\n",
    "\\mathbf{A} = \\mathbf{V} \\mathbf{\\Lambda} \\mathbf{V}^T\n",
    "$$\n",
    "где столбцы **V** - собственные векторы **A**, а **Λ** содержит собственные значения.\n",
    "\n",
    "**Доказательство (конструктивное)**\n",
    "\n",
    "**1. Существование собственных векторов**\n",
    "\n",
    "По **основной теореме алгебры**, характеристическое уравнение:\n",
    "$$\n",
    "\\det(\\mathbf{A} - \\lambda \\mathbf{I}) = 0\n",
    "$$\n",
    "имеет n корней (с учётом кратности). Для каждого λᵢ решаем:\n",
    "$$\n",
    "(\\mathbf{A} - \\lambda_i \\mathbf{I})\\mathbf{v}_i = 0\n",
    "$$\n",
    "\n",
    "**2. Ортогональность собственных векторов**\n",
    "\n",
    "**Лемма**: Собственные векторы, соответствующие различным λ, ортогональны.\n",
    "\n",
    "*Доказательство*:\n",
    "Пусть **Av₁** = λ₁**v₁** и **Av₂** = λ₂**v₂**, λ₁ ≠ λ₂. Тогда:\n",
    "$$\n",
    "λ₁**v₁**ᵀ**v₂** = (**Av₁**)ᵀ**v₂** = **v₁**ᵀ**A**ᵀ**v₂** = **v₁**ᵀ**A**v₂ = λ₂**v₁**ᵀ**v₂**\n",
    "$$\n",
    "Отсюда (λ₁ - λ₂)**v₁**ᵀ**v₂** = 0 ⇒ **v₁**ᵀ**v₂** = 0.\n",
    "\n",
    "***3. Приведение к диагональному виду***\n",
    "\n",
    "1. Строим матрицу **V** = [**v₁**|...|**vₙ**] из ортонормированных собственных векторов\n",
    "2. Тогда:\n",
    "   $$\n",
    "   \\mathbf{AV} = \\mathbf{V\\Lambda}\n",
    "   $$\n",
    "3. Умножая справа на **V**ᵀ:\n",
    "   $$\n",
    "   \\mathbf{A} = \\mathbf{V\\Lambda V}^T\n",
    "   $$\n"
   ]
  }
 ],
 "metadata": {
  "kernelspec": {
   "display_name": "Python 3",
   "language": "python",
   "name": "python3"
  },
  "language_info": {
   "codemirror_mode": {
    "name": "ipython",
    "version": 3
   },
   "file_extension": ".py",
   "mimetype": "text/x-python",
   "name": "python",
   "nbconvert_exporter": "python",
   "pygments_lexer": "ipython3",
   "version": "3.12.7"
  }
 },
 "nbformat": 4,
 "nbformat_minor": 2
}
